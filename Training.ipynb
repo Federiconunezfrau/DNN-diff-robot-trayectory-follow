{
  "cells": [
    {
      "cell_type": "markdown",
      "metadata": {
        "id": "view-in-github",
        "colab_type": "text"
      },
      "source": [
        "<a href=\"https://colab.research.google.com/github/Federiconunezfrau/DNN-diff-robot-trayectory-follow/blob/master/Training.ipynb\" target=\"_parent\"><img src=\"https://colab.research.google.com/assets/colab-badge.svg\" alt=\"Open In Colab\"/></a>"
      ]
    },
    {
      "cell_type": "markdown",
      "metadata": {
        "id": "sFyuYZCLyOf7"
      },
      "source": [
        "Se entrena a la red neuronal, que luego se utilizará para seguir la trayectoria. Se utiliza Tensorflow"
      ]
    },
    {
      "cell_type": "code",
      "execution_count": null,
      "metadata": {
        "id": "OY3miTbmyEny"
      },
      "outputs": [],
      "source": [
        "import tensorflow as tf\n",
        "\n",
        "import numpy as np\n",
        "\n",
        "from google.colab import files\n",
        "\n",
        "import matplotlib.pyplot as plt"
      ]
    },
    {
      "cell_type": "code",
      "execution_count": null,
      "metadata": {
        "id": "p1O8gHJ0-41k"
      },
      "outputs": [],
      "source": [
        "npz_trayectorias = np.load('trayectorias_ref_deseada.npz')\n",
        "\n",
        "keys = npz_trayectorias.files\n",
        "\n",
        "Tr = npz_trayectorias[keys[0]]\n",
        "Td = npz_trayectorias[keys[1]]\n",
        "\n",
        "N = Tr.shape[1]"
      ]
    },
    {
      "cell_type": "code",
      "execution_count": null,
      "metadata": {
        "id": "TGJB7DFL_c5b"
      },
      "outputs": [],
      "source": [
        "# NO USAR ESTA CELDA!\n",
        "\n",
        "# parámetro que indica cuántas entradas tendrá la red neuronal.\n",
        "# en total tendrá 3*(L+1) entradas y 2 salidas\n",
        "\n",
        "L = 2\n",
        "\n",
        "i = 0\n",
        "\n",
        "# lista donde se irán guardando las entradas de la red neuronal\n",
        "DNN_inputs = []\n",
        "\n",
        "# lista donde se irán guardando las salidas deseadas de la red neuronal\n",
        "DNN_outputs = []\n",
        "\n",
        "while (i+1+L < N):\n",
        "    \n",
        "    \n",
        "    a = Tr[:,i:i+1+L]\n",
        "    b = Td[:,i]\n",
        "    \n",
        "    DNN_inputs.append(a)\n",
        "    DNN_outputs.append(b)\n",
        "    \n",
        "    i += 1\n",
        "\n",
        "M = len(DNN_inputs)\n",
        "\n",
        "# Una vez que terminé, genero los vectores columna de entrada para la red\n",
        "# neuronal. Cada entrada de la red neuronal es un vector de \n",
        "# 3*(L+1) filas x 1 columna. Se genera una matriz \"X\" de \n",
        "# 3*(L+1) filas x M columnas.\n",
        "\n",
        "aux = DNN_inputs[0]\n",
        "X = np.reshape(aux.T,(3*(L+1),1))\n",
        "\n",
        "aux = DNN_outputs[0]\n",
        "Y = np.reshape(aux,(2,1))\n",
        "\n",
        "for j in range(1,M):\n",
        "    \n",
        "    aux = DNN_inputs[j]\n",
        "    x = np.reshape(aux.T,(3*(L+1),1))\n",
        "    \n",
        "    X = np.hstack((X,x))\n",
        "    \n",
        "    aux = DNN_outputs[j]\n",
        "    y = np.reshape(aux,(2,1))\n",
        "    Y = np.hstack((Y,y))\n",
        "\n",
        "# patrones de entrada para la red\n",
        "X = X.T\n",
        "\n",
        "# salidas deseadas de la red\n",
        "Y = Y.T\n",
        "\n",
        "# dimensiones de entrada\n",
        "N_input = X.shape[1]\n",
        "\n",
        "# dimensiones de salida\n",
        "N_output = Y.shape[1]\n",
        "\n",
        "# neuronas de la capa oculta\n",
        "N_middle = 1024"
      ]
    },
    {
      "cell_type": "code",
      "execution_count": null,
      "metadata": {
        "id": "QHzfhI13o4Sm"
      },
      "outputs": [],
      "source": [
        "# ESTA ES LA CELDA QUE HAY QUE USAR!\n",
        "# Esta celda es para el caso con la referencia adelantada\n",
        "\n",
        "trayectoria_recorrida = Tr.T\n",
        "trayectoria_referencia = Td.T\n",
        "\n",
        "i = 0\n",
        "\n",
        "L = 2\n",
        "\n",
        "DNN_inputs = []\n",
        "DNN_outputs = []\n",
        "\n",
        "while (i+1+L < N):\n",
        "    a = trayectoria_recorrida[i:i+L+1]\n",
        "    a.shape = (3*(L  + 1),)\n",
        "    b = trayectoria_referencia[i+1]\n",
        "\n",
        "    DNN_inputs.append(a)\n",
        "    DNN_outputs.append(b)\n",
        "\n",
        "    i+=1\n",
        "\n",
        "M = len(DNN_inputs)\n",
        "\n",
        "X = DNN_inputs[0]\n",
        "\n",
        "Y = DNN_outputs[0]\n",
        "\n",
        "for j in range(1,M):\n",
        "    aux = DNN_inputs[j]\n",
        "    X = np.vstack((X,aux))\n",
        "\n",
        "    aux = DNN_outputs[j]\n",
        "    Y = np.vstack((Y,aux))\n",
        "\n",
        "# dimensiones de entrada\n",
        "N_input = X.shape[1]\n",
        "\n",
        "# dimensiones de salida\n",
        "N_output = Y.shape[1]\n",
        "\n",
        "# neuronas de la capa oculta\n",
        "N_middle = 1024"
      ]
    },
    {
      "cell_type": "code",
      "execution_count": null,
      "metadata": {
        "id": "OATrMg7v_59v"
      },
      "outputs": [],
      "source": [
        "X.shape"
      ]
    },
    {
      "cell_type": "code",
      "execution_count": null,
      "metadata": {
        "id": "BzQt1aqF03CH"
      },
      "outputs": [],
      "source": [
        "# Creo la Red Neuronal\n",
        "model = tf.keras.Sequential()\n",
        "\n",
        "capas_ocultas = 1\n",
        "\n",
        "# Capa de entrada\n",
        "model.add(tf.keras.Input(shape=(N_input,)))\n",
        "# Una capa oculta\n",
        "model.add(tf.keras.layers.Dense(N_middle,\n",
        "                                activation = 'relu',\n",
        "                                kernel_initializer = 'glorot_uniform',\n",
        "                                bias_initializer = 'glorot_uniform'))\n",
        "\n",
        "model.add(tf.keras.layers.Dropout(0.5))\n",
        "\"\"\"\n",
        "model.add(tf.keras.layers.Dense(N_middle,\n",
        "                                activation = 'relu',\n",
        "                                kernel_initializer = 'glorot_uniform',\n",
        "                                bias_initializer = 'glorot_uniform'))\n",
        "\n",
        "model.add(tf.keras.layers.Dropout(0.5))\n",
        "\n",
        "\"\"\"\n",
        "# model.add(tf.keras.layers.Dense(N_middle,\n",
        "                                # activation = 'relu',\n",
        "                                # kernel_initializer = 'glorot_uniform',\n",
        "                                # bias_initializer = 'glorot_uniform'))\n",
        "\n",
        "# model.add(tf.keras.layers.Dropout(0.5))\n",
        "\n",
        "\n",
        "# model.add(tf.keras.layers.Dense(N_middle,\n",
        "                                # activation = 'relu',\n",
        "                                # kernel_initializer = 'glorot_uniform',\n",
        "                                # bias_initializer = 'glorot_uniform'))\n",
        "\n",
        "# model.add(tf.keras.layers.Dropout(0.5))\n",
        "\n",
        "\n",
        "model.add(tf.keras.layers.Dense(N_output,\n",
        "                                activation = 'linear',\n",
        "                                kernel_initializer = 'glorot_uniform',\n",
        "                                bias_initializer = 'glorot_uniform'))\n",
        "\n",
        "eta = 0.0003\n",
        "\n",
        "opt = tf.keras.optimizers.Adam(learning_rate = eta)\n",
        "\n",
        "model.compile(optimizer = opt,\n",
        "              loss = 'mse')"
      ]
    },
    {
      "cell_type": "code",
      "execution_count": null,
      "metadata": {
        "id": "NvfH5hJN1RnM"
      },
      "outputs": [],
      "source": [
        "model.summary()"
      ]
    },
    {
      "cell_type": "code",
      "execution_count": null,
      "metadata": {
        "id": "IJ8BeQyw1DyQ"
      },
      "outputs": [],
      "source": [
        "# Se entrena la red neuronal\n",
        "\n",
        "history = model.fit(X,Y, epochs = 4000, batch_size = 30, validation_split=0.1)"
      ]
    },
    {
      "cell_type": "code",
      "execution_count": null,
      "metadata": {
        "colab": {
          "base_uri": "https://localhost:8080/",
          "height": 312
        },
        "id": "mKLpI9SZiI5d",
        "outputId": "0cb31235-2a2d-4199-f6a6-b4357436cceb"
      },
      "outputs": [
        {
          "output_type": "execute_result",
          "data": {
            "text/plain": [
              "Text(0.5, 1.0, 'hidden = 1, units = 1024, Adam, L = 2, act = ReLu, eta = 0.0003')"
            ]
          },
          "metadata": {},
          "execution_count": 31
        },
        {
          "output_type": "display_data",
          "data": {
            "image/png": "[encoded data removed]",
            "text/plain": [
              "<Figure size 432x288 with 1 Axes>"
            ]
          },
          "metadata": {
            "needs_background": "light"
          }
        }
      ],
      "source": [
        "# se grafica el error vs época\n",
        "capas_ocultas = 1\n",
        "eta = 0.0003\n",
        "\n",
        "N_loss = len(history.history['loss'])\n",
        "N_val_loss = len(history.history['val_loss'])\n",
        "\n",
        "fig, ax = plt.subplots(1)\n",
        "ax.plot(history.history['loss'],'b-',label = 'Error de train: %.3f' %(history.history['loss'][N_loss - 1]))\n",
        "ax.plot(history.history['val_loss'],'r-',label = 'Error de test: %.3f' %(history.history['val_loss'][N_val_loss - 1]))\n",
        "\n",
        "ax.set_xlabel('epocas')\n",
        "ax.set_ylabel('error')\n",
        "ax.legend()\n",
        "ax.grid(True)\n",
        "ax.set_title('hidden = %i, units = %i, Adam, L = %i, act = ReLu, eta = %.4f' %(capas_ocultas, N_middle, L, eta))"
      ]
    },
    {
      "cell_type": "code",
      "execution_count": null,
      "metadata": {
        "colab": {
          "background_save": true
        },
        "id": "CuXM2y3zmiHM"
      },
      "outputs": [],
      "source": [
        "fig.savefig('entrenamiento_L.png',dpi = 300)"
      ]
    },
    {
      "cell_type": "code",
      "execution_count": null,
      "metadata": {
        "id": "FyRVRLMk17GO"
      },
      "outputs": [],
      "source": [
        "# Se exporta el modelo para después utilizarlo\n",
        "\n",
        "tf.keras.models.save_model(model,\"./saved_models\")\n",
        "\n",
        "# Se descarga el modelo para cargarlo en otro notebook\n",
        "!zip -r /content/file.zip /content/saved_models\n",
        "files.download(\"/content/file.zip\")"
      ]
    },
    {
      "cell_type": "code",
      "execution_count": null,
      "metadata": {
        "id": "FnBNjUbuBvwB"
      },
      "outputs": [],
      "source": [
        "model.layers[4].weights"
      ]
    }
  ],
  "metadata": {
    "colab": {
      "collapsed_sections": [],
      "name": "Training.ipynb",
      "provenance": [],
      "authorship_tag": "ABX9TyPD6VQMSf5VTTbjYRzXWCLO",
      "include_colab_link": true
    },
    "kernelspec": {
      "display_name": "Python 3",
      "name": "python3"
    },
    "language_info": {
      "name": "python"
    }
  },
  "nbformat": 4,
  "nbformat_minor": 0
}