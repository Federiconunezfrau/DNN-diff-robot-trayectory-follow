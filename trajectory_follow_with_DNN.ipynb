{
  "nbformat": 4,
  "nbformat_minor": 0,
  "metadata": {
    "colab": {
      "name": "trajectory_follow_with_DNN.ipynb",
      "provenance": [],
      "collapsed_sections": []
    },
    "kernelspec": {
      "name": "python3",
      "display_name": "Python 3"
    },
    "language_info": {
      "name": "python"
    }
  },
  "cells": [
    {
      "cell_type": "markdown",
      "metadata": {
        "id": "VfEQzheP44iV"
      },
      "source": [
        "Se define una clase \"generador de referencias\". Luego se creará un objeto del tipo \"generador de referencias\" y se incluirá dentro del robot, para que él mismo gener esus propias referencias."
      ]
    },
    {
      "cell_type": "code",
      "metadata": {
        "id": "-Ng08Sl6Jfby"
      },
      "source": [
        "!pip install mpld3\n",
        "import mpld3\n",
        "\n",
        "from mpld3 import plugins"
      ],
      "execution_count": null,
      "outputs": []
    },
    {
      "cell_type": "code",
      "source": [
        "tf.keras.backend.clear_session()  # Para restablecer fácilmente el estado del portátil."
      ],
      "metadata": {
        "id": "p-QHbm1IwLx2"
      },
      "execution_count": null,
      "outputs": []
    },
    {
      "cell_type": "code",
      "source": [
        "!pip install keras==2.6.0\n",
        "!pip install tensorflow==2.6.0"
      ],
      "metadata": {
        "id": "dBpXl_dWl-Au"
      },
      "execution_count": null,
      "outputs": []
    },
    {
      "cell_type": "code",
      "source": [
        "!rm -rf output_folder"
      ],
      "metadata": {
        "id": "lICWWRvokRuB"
      },
      "execution_count": 708,
      "outputs": []
    },
    {
      "cell_type": "code",
      "metadata": {
        "id": "iAj9MJcV5Op-",
        "colab": {
          "base_uri": "https://localhost:8080/"
        },
        "outputId": "c518c12d-65bb-44e6-c235-3f6ce59feb9a"
      },
      "source": [
        "# Se importa el modelo del archivo \"file.zip\"\n",
        "!unzip \"/content/file.zip\" -d \"/content/output_folder\""
      ],
      "execution_count": 709,
      "outputs": [
        {
          "output_type": "stream",
          "name": "stdout",
          "text": [
            "Archive:  /content/file.zip\n",
            "   creating: /content/output_folder/content/saved_models/\n",
            "   creating: /content/output_folder/content/saved_models/assets/\n",
            "  inflating: /content/output_folder/content/saved_models/saved_model.pb  \n",
            "  inflating: /content/output_folder/content/saved_models/keras_metadata.pb  \n",
            "   creating: /content/output_folder/content/saved_models/variables/\n",
            "  inflating: /content/output_folder/content/saved_models/variables/variables.index  \n",
            "  inflating: /content/output_folder/content/saved_models/variables/variables.data-00000-of-00001  \n"
          ]
        }
      ]
    },
    {
      "cell_type": "code",
      "metadata": {
        "id": "6qp9UrY242Ib"
      },
      "source": [
        "import tensorflow as tf\n",
        "\n",
        "import numpy as np\n",
        "\n",
        "class ref_generator():\n",
        "    def __init__(self):\n",
        "        \n",
        "        # se carga el modelo de tensorflow\n",
        "        self.model = tf.keras.models.load_model(\"./output_folder/content/saved_models\", compile = True)\n",
        "        # self.model = tf.keras.models.load_model(\"./output_folder/content/tmp/model\", compile = True)\n",
        "        \n",
        "        # cantidad de entradas de la red neuronal\n",
        "        # n_input = 6\n",
        "        \n",
        "        # cantidad de puntos futuros deseadosque se le cargan a la red\n",
        "        # neuronal\n",
        "        self.L = 2\n",
        "        \n",
        "    def get_reference(self,trajectory,n_ref,current_pos):\n",
        "        \n",
        "        # a partir de la trayectoria y de la pose actual, se genera el vector\n",
        "        # de entrada para la red neuronal\n",
        "        # pdb.set_trace()\n",
        "\n",
        "        if n_ref + self.L <= trajectory.shape[1]:\n",
        "          desired = trajectory[:,n_ref:n_ref+self.L]\n",
        "          desired = np.reshape(desired,(self.L * 3,),'F')\n",
        "          # desired = np.reshape(desired,(self.L * 2,),'F')\n",
        "          #print(desired.shape)\n",
        "        \n",
        "        else:\n",
        "          desired = trajectory[:,n_ref]\n",
        "          # desired.shape = (3*self.L,)\n",
        "          #print(n_ref)\n",
        "          i = 0\n",
        "          for i in range(0,trajectory.shape[1] - n_ref - 1):\n",
        "            aux = trajectory[:,n_ref + i + 1]\n",
        "            desired = np.hstack((desired,aux))\n",
        "          \n",
        "          if (n_ref == trajectory.shape[1] - 1):\n",
        "            i = 0\n",
        "            aux = trajectory[:,n_ref]\n",
        "            for j in range(i,self.L-1):\n",
        "              desired = np.hstack((desired,aux))\n",
        "\n",
        "          else:\n",
        "            for j in range(i,self.L-2):\n",
        "              desired = np.hstack((desired,aux))\n",
        "\n",
        "        \n",
        "        # genero el vector de pose actual del robot, para luego introducirlo\n",
        "        # en la red neuronal\n",
        "        # pdb.set_trace()\n",
        "        current = np.array(current_pos)\n",
        "        \n",
        "        # junto la deseada con la actual para generar la entrada a la red\n",
        "        # neuronal\n",
        "        # pdb.set_trace()\n",
        "        for k in range(0,self.L):\n",
        "          angle = desired[3 * k + 2 ] + 2 * np.pi\n",
        "          desired[3 * k + 2] = angle\n",
        "        \n",
        "        current[2] = current[2] + 2 * np.pi\n",
        "        input_states = np.hstack((current,desired))\n",
        "        input_states = np.expand_dims(input_states, axis = 0)\n",
        "#===============================================================================\n",
        "# Esto es válido solo para la entrada diferencial\n",
        "#         current = np.array(current_pos)\n",
        "#        p_t = current[0:2]\n",
        "#        theta_t = current[2]\n",
        "\n",
        "#        p_d_1 = desired[0:2]\n",
        "#        theta_d_1 = desired[2]\n",
        "\n",
        "#        input_states = np.hstack((p_d_1 - p_t,theta_t,theta_d_1))\n",
        "#===============================================================================\n",
        "\n",
        "        # input_states = np.expand_dims(input_states, axis = 0)\n",
        "        \n",
        "        # genero la nueva referencia\n",
        "        new_reference = self.model.predict(input_states)\n",
        "        \n",
        "        new_reference.shape = (2,)\n",
        "#===============================================================================\n",
        "# Esto es válido solo para la entrada diferencial\n",
        "        # new_reference = new_reference + p_d_1\n",
        "#===============================================================================\n",
        "        return new_reference"
      ],
      "execution_count": 710,
      "outputs": []
    },
    {
      "cell_type": "code",
      "source": [
        "trajectory[:,19]\n"
      ],
      "metadata": {
        "id": "En8YZoig6dgg",
        "colab": {
          "base_uri": "https://localhost:8080/"
        },
        "outputId": "a16cb737-80e6-42b6-8091-b0f73127d1df"
      },
      "execution_count": null,
      "outputs": [
        {
          "output_type": "execute_result",
          "data": {
            "text/plain": [
              "array([ 0.        ,  0.        , -1.57079633])"
            ]
          },
          "metadata": {},
          "execution_count": 125
        }
      ]
    },
    {
      "cell_type": "markdown",
      "metadata": {
        "id": "QPc713tXvykO"
      },
      "source": [
        "Se define una clase robot"
      ]
    },
    {
      "cell_type": "code",
      "metadata": {
        "id": "JL5bP9RNvogc"
      },
      "source": [
        "import numpy as np\n",
        "\n",
        "import threading\n",
        "import time\n",
        "import timeit\n",
        "\n",
        "from clase_PID import PID\n",
        "from clase_PID import calculate_references\n",
        "\n",
        "# from reference_generator import ref_generator\n",
        "\n",
        "class Robot():\n",
        "    def __init__(self,x=0,y=0,theta=0,dt = 0.1, dt_control = 0.5):\n",
        "        \n",
        "        # posición real del robot\n",
        "        self.__ground_truth = (x,y,theta)\n",
        "        self.__odometry = (x,y,theta)\n",
        "\n",
        "\n",
        "\t\t# dimensiones del robot\n",
        "        self.r = 0.036\n",
        "        self.l = 0.235\n",
        "        self.height = 0.10\n",
        "        self.diameter = 0.35\n",
        "\n",
        "\t\t# velocidades del robot\n",
        "        self.__v = 0\n",
        "        self.__w = 0\n",
        "        \n",
        "        # velocidades máximas y mínimas\n",
        "        self.__v_max = 2.0\n",
        "        self.__v_min = -2.0\n",
        "        #self.__v_max = 1000\n",
        "        #self.__v_min = -1000\n",
        "         \n",
        "        # velocidades máximas y mínimas\n",
        "        self.__w_max = 5.0\n",
        "        self.__w_min = -5.0\n",
        "        #self.__w_max = 1000\n",
        "        #self.__w_min = -1000\n",
        "\n",
        "\t\t#Error parameters\n",
        "\t\t# self.alpha = (0.10, 0.20, 0.10, 0.20, 0.25, 0.25)\n",
        "        alpha = [0.10, 0.20, 0.10, 0.20, 0.25, 0.25]\n",
        "        multiplicador = 2\n",
        "        alpha = [a * multiplicador for a in alpha]\n",
        "        self.alpha = tuple(alpha)\n",
        "        \n",
        "        # configuración del simulador del robot móvil\n",
        "        self.__simulation_mobile_robot_on = False # indica si la simulación está corriendo o no\n",
        "        self.__simulation_mobile_robot_thread = threading.Thread(target = self.__simulation_task_mobile_robot)\n",
        "        self.dt = dt\n",
        "        \n",
        "        \n",
        "        # configuración del simulador del controlador\n",
        "        self.__simulation_control_on = False\n",
        "        self.__simulation_control_thread = threading.Thread(target = self.__simulation_task_control)\n",
        "        self.dt_control = dt_control\n",
        "        self.__step_counter_control = 0\n",
        "        \n",
        "\t# setters\n",
        "\t# setear la velocidad lineal\n",
        "    def set_linear_velocity(self,v):\n",
        "        if(v > self.__v_max):\n",
        "            self.__v = self.__v_max\n",
        "        elif(v < self.__v_min):\n",
        "            self.__v = self.__v_min\n",
        "        else:\n",
        "            self.__v = v\n",
        "\n",
        "\t# setear la velocidad angular\n",
        "    def set_angular_velocity(self,w):\n",
        "        if(w > self.__w_max):\n",
        "            self.__w = self.__w_max\n",
        "        elif(w < self.__w_min):\n",
        "            self.__w = self.__w_min\n",
        "        else:\n",
        "            self.__w = w\n",
        "    \n",
        "    # getters\n",
        "\t# obtener la velocidad lineal\n",
        "    def get_linear_velocity(self):\n",
        "        return self.__v\n",
        "\n",
        "\t# obtener la velocidad angular\n",
        "    def get_angular_velocity(self):\n",
        "        return self.__w\n",
        "\n",
        "\t# obtener el ground truth del robot\n",
        "    def get_ground_truth(self):\n",
        "        return self.__ground_truth\n",
        "    \n",
        "    def get_odometry(self):\n",
        "        return self.__odometry\n",
        "    \n",
        "    def get_real_trajectory(self):\n",
        "        return self.__real_trajectory\n",
        "      \n",
        "    def get_max_linear_velocity(self):\n",
        "        return self.__v_max, self.__v_min\n",
        "      \n",
        "    def get_max_angular_velocity(self):\n",
        "        return self.__w_max, self.__w_min\n",
        "    \n",
        "    #private methods\n",
        "    def __sample_nd(self, b):\n",
        "        return (b / 6.0) * np.sum(2.0 * np.random.rand(12) - 1.0)\n",
        "\n",
        "\t# movimiento del robot\n",
        "    def move(self):\n",
        "        \n",
        "        v = self.__v\n",
        "        w = self.__w\n",
        "\n",
        "        if(w != 0):\n",
        "            v_w = v/w\n",
        "            next_x = self.__odometry[0] - v_w * np.sin(self.__odometry[2]) + v_w * np.sin(self.__odometry[2] + w * self.dt)\n",
        "            next_y = self.__odometry[1] + v_w * np.cos(self.__odometry[2]) - v_w * np.cos(self.__odometry[2] + w * self.dt)\n",
        "            next_theta = self.__odometry[2] + w * self.dt\n",
        "\n",
        "        else:\n",
        "            next_x = self.__odometry[0] + v * np.cos(self.__odometry[2]) * self.dt\n",
        "            next_y = self.__odometry[1] + v * np.sin(self.__odometry[2]) * self.dt\n",
        "            next_theta = self.__odometry[2]\n",
        "\t\t\n",
        "        next_odom = (next_x,next_y,next_theta)\n",
        "        self.__odometry = next_odom\n",
        "        \n",
        "        v_hat = v + self.__sample_nd(self.alpha[0] * np.abs(v) + self.alpha[1] * np.abs(w))\n",
        "        w_hat = w + self.__sample_nd(self.alpha[2] * np.abs(v) + self.alpha[3] * np.abs(w))\n",
        "        gamma_hat = self.__sample_nd(self.alpha[4] * np.abs(v) + self.alpha[5] * np.abs(w))\n",
        "        \n",
        "        if(w_hat != 0):\n",
        "            v_w = v_hat/w_hat\n",
        "            next_x = self.__ground_truth[0] - v_w * np.sin(self.__ground_truth[2]) + v_w * np.sin(self.__ground_truth[2] + w_hat * self.dt)\n",
        "            next_y = self.__ground_truth[1] + v_w * np.cos(self.__ground_truth[2]) - v_w * np.cos(self.__ground_truth[2] + w_hat * self.dt)\n",
        "            next_theta = self.__ground_truth[2] + w_hat * self.dt + gamma_hat * self.dt\n",
        "\n",
        "        else:\n",
        "            next_x = self.__ground_truth[0] + v_hat * np.cos(self.__ground_truth[2]) * self.dt\n",
        "            next_y = self.__ground_truth[1] + v_hat * np.sin(self.__ground_truth[2]) * self.dt\n",
        "            next_theta = self.__ground_truth[2] + gamma_hat * self.dt\n",
        "\n",
        "\t\t# se normaliza la orientación del robot, para obtener un número entre -pi y pi\n",
        "        while(next_theta > np.pi):\n",
        "            next_theta = next_theta - 2 * np.pi\n",
        "\n",
        "        while(next_theta <= -np.pi):\n",
        "            next_theta = next_theta + 2 * np.pi\n",
        "\n",
        "\n",
        "\t\t# se setea la nueva pose del robot\n",
        "        next_pos = (next_x,next_y,next_theta)\n",
        "\n",
        "        self.__ground_truth = next_pos\n",
        "        \n",
        "# Métodos del trajectory follower\n",
        "\n",
        "# Configuración del seguidor de trayectorias\n",
        "    #def trajectory_follow_config(self,Kp,Ti,Td,trajectory):\n",
        "    def trajectory_follow_config(self,Kp_s,Kp_theta,trajectory):\n",
        "        \n",
        "        # se crea el generador de referencias que se utilizará para\n",
        "        # controlar la trayectoria\n",
        "        self.ref_gen = ref_generator()\n",
        "        \n",
        "        # se crean los PIDs para el seguimiento de trayectoria\n",
        "        self.PID_theta = PID(Kp_theta,0,0,self.dt_control)\n",
        "        self.PID_s = PID(Kp_s,0,0,self.dt_control)\n",
        "        \n",
        "        # se carga la trayectoria a seguir\n",
        "        self.trajectory = trajectory\n",
        "        self.trajectory_len = np.shape(trajectory)[1]\n",
        "        \n",
        "        # se setea la primer referencia\n",
        "        self.n_ref = 0\n",
        "        # self.n_ref = 1\n",
        "        # self.reference = trajectory[:,0]\n",
        "        self.reference = self.ref_gen.get_reference(self.trajectory,self.n_ref,self.__ground_truth)\n",
        "        \n",
        "        # contador que sirve para saber cuándo modificar la referencia del\n",
        "        # controlador\n",
        "        self.reference_change_counter = 0\n",
        "        self.reference_change_counter_max = 3\n",
        "        \n",
        "        self.trajectory_follow_activated = False\n",
        "        \n",
        "        # se crea una lista vacía que contendrá todas las poses de las \n",
        "        # trayectorias que irá recorriend el robot\n",
        "        # self.__real_trajectory = [self.__ground_truth]\n",
        "        self.__real_trajectory = []\n",
        "        \n",
        "# Cálculo de la acción de control del seguidor de trayectorias        \n",
        "    def trajectory_follow(self):\n",
        "        \n",
        "        #if self.trajectory_follow_activated == False:\n",
        "          #self.set_linear_velocity(0)\n",
        "          #self.set_angular_velocity(0)\n",
        "        \n",
        "        #else:\n",
        "\n",
        "        # Se calculan las referencias auxiliares\n",
        "        # aux_reference = self.ref_gen.get_reference(self.trajectory,self.n_ref,self.__ground_truth) \n",
        "        \n",
        "        # aux_reference = self.reference\n",
        "\n",
        "        \n",
        "        #aux_reference = np.array(aux_reference)\n",
        "        #aux_reference.shape = (2,1)\n",
        "        \n",
        "        # A partir de la referencia en la trayectoria y de la posición actual,\n",
        "        # se calculan los errores\n",
        "        e_theta, e_s = calculate_references(self.reference,self.__ground_truth)\n",
        "        # e_theta, e_s = calculate_references(aux_reference,self.__ground_truth)\n",
        "        \n",
        "        # Se calculan las velocidades lineal y angular\n",
        "        w = self.PID_theta.control(e_theta)\n",
        "        v = self.PID_s.control(e_s)\n",
        "        \n",
        "        # Se setean en el robot\n",
        "        self.set_linear_velocity(v)\n",
        "        self.set_angular_velocity(w)\n",
        "        \n",
        "        self.reference_change_counter +=1\n",
        "        \n",
        "        if self.reference_change_counter == self.reference_change_counter_max:\n",
        "            # se setea la próxima referencia\n",
        "            self.n_ref = self.n_ref + 1\n",
        "            self.reference_change_counter = 0\n",
        "            self.__real_trajectory.append(self.__ground_truth)\n",
        "        \n",
        "            if self.n_ref < self.trajectory_len:\n",
        "                # self.reference = self.trajectory[:,self.n_ref]\n",
        "                self.reference = self.ref_gen.get_reference(self.trajectory,self.n_ref,self.__ground_truth)\n",
        "            \n",
        "            else:\n",
        "                self.trajectory_follow_activated = False\n",
        "\n",
        "# =============================================================================\n",
        "# Métodos de la simulación\n",
        "# =============================================================================\n",
        "# Simulation task: ejecuta el paso de simulación del robot móvil\n",
        "    def __simulation_task_mobile_robot(self):\n",
        "        \n",
        "        while self.__simulation_mobile_robot_on == True:\n",
        "            \n",
        "            # se incrementa en uno el contador de veces que se invocó al\n",
        "            # paso de simulación de control\n",
        "            self.__step_counter_mobile_robot += 1\n",
        "            \n",
        "            # tiempo que tarda en ejecutarse la función que mueve al robot            \n",
        "            time_for_moving = timeit.timeit(self.move, number = 1)\n",
        "            \n",
        "            time_to_sleep = self.dt - time_for_moving\n",
        "            \n",
        "            if time_to_sleep > 0:\n",
        "                time.sleep(time_to_sleep)\n",
        "                \n",
        "            else:\n",
        "                time.sleep(0.010)\n",
        "        \n",
        "        return\n",
        "\n",
        "# Simulation task: ejectua el controlador para calcular la velocidad lineal y\n",
        "# angular del robot\n",
        "    def __simulation_task_control(self):\n",
        "        \n",
        "        while self.__simulation_control_on == True:\n",
        "            \n",
        "            self.__step_counter_control += 1\n",
        "            \n",
        "            # tiempo que tarda en ejecutarse la función que mueve al robot\n",
        "            time_for_controlling = timeit.timeit(self.trajectory_follow, number = 1)\n",
        "            \n",
        "            time_to_sleep = self.dt_control - time_for_controlling\n",
        "            \n",
        "            if time_to_sleep > 0:\n",
        "                time.sleep(time_to_sleep)\n",
        "            \n",
        "            else:\n",
        "                time.sleep(0.010)\n",
        "        \n",
        "        return\n",
        "\n",
        "    # Simulation start: inicial as imulación del movimiento del robot\n",
        "    def start_simulation_robot(self):\n",
        "        \n",
        "        self.__step_counter_mobile_robot = 0\n",
        "        self.__elapsed_time_mobile_robot = 0\n",
        "        self.__simulation_mobile_robot_on = True\n",
        "        self.__simulation_mobile_robot_thread.start()\n",
        "    \n",
        "    def stop_simulation_robot(self):\n",
        "        \n",
        "        self.__simulation_mobile_robot_on = False\n",
        "        self.__simulation_mobile_robot_thread.join()\n",
        "        print(\"Robot: simulation stopped\")\n",
        "    \n",
        "    # Simulation start: inicial as imulación del movimiento del trajectory follow\n",
        "    def start_simulation_control(self):\n",
        "        \n",
        "        self.__step_counter_control = 0\n",
        "        self.__elapsed_time_control = 0\n",
        "        self.__simulation_control_on = True\n",
        "        self.trajectory_follow_activated = True\n",
        "        self.__simulation_control_thread.start()\n",
        "    \n",
        "    def stop_simulation_control(self):\n",
        "        \n",
        "        self.__simulation_control_on = False\n",
        "        self.__simulation_control_thread.join()\n",
        "        print(\"Control: simulation stopped\")\n",
        "\n",
        "# Simulation start:inicia la simulación de todo\n",
        "    def start_simulation(self):\n",
        "            \n",
        "        self.start_simulation_robot()\n",
        "        self.start_simulation_control()\n",
        "\n",
        "# Stop simulation: detiene la simulación de todo\n",
        "    def stop_simulation(self):\n",
        "        \n",
        "        if self.__simulation_mobile_robot_on == True:\n",
        "            self.stop_simulation_robot()\n",
        "            \n",
        "        if self.__simulation_control_on == True:\n",
        "            self.stop_simulation_control()\n",
        "\n",
        "# Devuelve el contador de la simulación del robot móvil\n",
        "    def get_simulation_step_counter_mobile_robot(self):\n",
        "        return self.__step_counter_mobile_robot\n",
        "\n",
        "# Devuelve el tiempo de la simulación del robot móvil\n",
        "    def get_simulation_time_mobile_robot(self):\n",
        "        return self.__step_counter_mobile_robot * self.dt\n",
        "\n",
        "# Devuelve el contador de la simulación del controlador\n",
        "    def get_simulation_step_counter_control(self):\n",
        "        return self.__step_counter_control\n",
        "\n",
        "# Devuelve el tiempo de la simulación del robot controlador\n",
        "    def get_simulation_time_control(self):\n",
        "        return self.__step_counter_control * self.dt_control\n",
        "    "
      ],
      "execution_count": 711,
      "outputs": []
    },
    {
      "cell_type": "code",
      "metadata": {
        "id": "iJQaABMiyAGy"
      },
      "source": [
        "# Imports\n",
        "\n",
        "import numpy as np\n",
        "import matplotlib.pyplot as plt\n",
        "\n",
        "# \"pdb\" es una biblioteca que sirve para debuggear el código. Ver el cheatsheet en: \n",
        "# https://appletree.or.kr/quick_reference_cards/Python/Python%20Debugger%20Cheatsheet.pdf\n",
        "\n",
        "import pdb\n",
        "\n",
        "from ploteo_del_robot import *\n",
        "\n",
        "from curve_equally_spaced import *"
      ],
      "execution_count": 712,
      "outputs": []
    },
    {
      "cell_type": "code",
      "metadata": {
        "id": "3-FQ34rj7jYO"
      },
      "source": [
        "# Utilidades\n",
        "import numpy as np\n",
        "\n",
        "def length_trajectory(T):\n",
        "    \n",
        "    N = T.shape[1]\n",
        "    \n",
        "    l = 0\n",
        "    \n",
        "    for i in range(1,N):\n",
        "        # pdb.set_trace()\n",
        "        t1 = T[0:2,i]\n",
        "        t0 = T[0:2,i-1]\n",
        "\n",
        "        delta_l = np.linalg.norm(t1 - t0)\n",
        "        \n",
        "        l += delta_l\n",
        "    \n",
        "    return l\n",
        "\"\"\"\n",
        "==============================================================================\n",
        "Calculate error:\n",
        "\n",
        "    c: variable de tipo np.array, de 2 filas x N columnas. Contiene la\n",
        "       trayectoria recorrida por el robot.\n",
        "    \n",
        "    d: variable de tipo np.array, de 2 x N. Contiene la trayectoria deseada,\n",
        "\n",
        "    La columna t del vector \"c\" contiene la posición donde se encontró al robot\n",
        "    en ese instante. La columna t del vector \"d\" contiene la posición donde se\n",
        "    quería encontrar al robot. \n",
        "    \n",
        "    La función devuelve el E_RMS entre ambas trayectorias y el E_peak, siendo \n",
        "    este último la distancia máxima entre un punto deseado en algún instante t,\n",
        "    y el correspondiente punto donde se encontró al robot.\n",
        "\n",
        "=============================================================================\"\"\"\n",
        "def calculate_error(c,d):\n",
        "    #pdb.set_trace()\n",
        "    N = np.shape(d)[1]\n",
        "    e = 0\n",
        "    e_peak = 0\n",
        "\n",
        "    for i in range(N):\n",
        "        c_aux = np.array(c[i][0:2])\n",
        "        # c_aux.shape = (2,1)\n",
        "        e_new = np.linalg.norm(c_aux - d[0:2,i])\n",
        "        \n",
        "        if(e_new > e_peak):\n",
        "            e_peak = e_new\n",
        "            \n",
        "        e = e + e_new**2\n",
        "        # e_peak\n",
        "    \n",
        "    e = e / N\n",
        "    \n",
        "    e_rms = np.sqrt(e)\n",
        "    \n",
        "    return e_rms, e_peak\n",
        "        \n",
        "\"\"\"\n",
        "==============================================================================\n",
        "Create trajectory:\n",
        "\n",
        "    N: cantidad de puntos que tendrá la trayectoria creada.\n",
        "\n",
        "    Devuelve una trayectoria en el plano xy a ser recorrida por el robot, de \n",
        "    \"N\" puntos. Las características de la trayectoria dependen de la función que\n",
        "    se encuentre descomentada.\n",
        "\n",
        "=============================================================================\"\"\"        \n",
        "def create_trajectory(N):\n",
        "    \n",
        "    # trayectoria lineal\n",
        "    # return linear_trajectory(N)\n",
        "    \n",
        "    # trayectoria circunferencia\n",
        "    # return circle_trajectory(N)\n",
        "\n",
        "    # trayectoria cuadrada comenzando en horizontal\n",
        "    # return square_trajectory(N)\n",
        "\n",
        "    # trayectoria cuadrada comenzando en vertical\n",
        "    # return square_trajectory_y(N)\n",
        "\n",
        "    # trayectoria con forma de señal cuadrada en el plano xy\n",
        "    # return labyrinth_trajectory(N)\n",
        "\n",
        "    # trayectoria en espiral\n",
        "    return spiral_trajectory(N)\n",
        "\n",
        "    # trayectoria que es como una sinusoidal rectificada\n",
        "    # return curvy_trajectory(N)\n",
        "\n",
        "\"\"\"\n",
        "==============================================================================\n",
        "Linear trajectory:\n",
        "\n",
        "    N: cantidad de puntos que tendrá la trayectoria creada.\n",
        "\n",
        "    Devuelve una trayectoria en línea recta horizontal. La trayectoria comienza\n",
        "    en el punto (0,1) y finaliza en (10,1). La trayectoria siempre es de \"N\"\n",
        "    puntos!\n",
        "\n",
        "=============================================================================\"\"\"  \n",
        "def linear_trajectory(N):\n",
        "\n",
        "    # devuelve un array de posiciones (x,y) que definen la trayectoria a seguir\n",
        "    # la trayectoria será de N puntos en el plano\n",
        "    trajectory_x = np.linspace(0,10,N)\n",
        "    trajectory_y = np.ones(trajectory_x.shape) * 1\n",
        "    # trajectory = np.stack((trajectory_x,trajectory_y))\n",
        "\n",
        "        # calculo los ángulos de las poses\n",
        "    angulos = []\n",
        "    for i in range(N-1):\n",
        "        theta = np.arctan2((trajectory_y[i+1] - trajectory_y[i]),(trajectory_x[i+1] - trajectory_x[i]))\n",
        "        angulos.append(theta)\n",
        "    \n",
        "    angulo_N = angulos[N-2]\n",
        "    angulos.append(angulo_N)\n",
        "    angulos_vector = np.array(angulos)\n",
        "    \n",
        "    trajectory = np.stack((trajectory_x,trajectory_y,angulos_vector))\n",
        "    \n",
        "    return trajectory\n",
        "\n",
        "def circle_trajectory(N):\n",
        "    radio = 10\n",
        "    center = np.array([10,10])\n",
        "    angle = np.linspace(0,2*np.pi,N)\n",
        "    trajectory_x = np.ones(N) * center[0] + radio * np.cos(angle)\n",
        "    trajectory_y = np.ones(N) * center[1] + radio * np.sin(angle)\n",
        "    trajectory = np.stack((trajectory_x,trajectory_y))\n",
        "    \n",
        "    # calculo los ángulos de las poses\n",
        "    angulos = []\n",
        "    for i in range(N-1):\n",
        "        theta = np.arctan2((trajectory_y[i+1] - trajectory_y[i]),(trajectory_x[i+1] - trajectory_x[i]))\n",
        "        angulos.append(theta)\n",
        "    \n",
        "    angulo_N = angulos[N-2]\n",
        "    angulos.append(angulo_N)\n",
        "    angulos_vector = np.array(angulos)\n",
        "    \n",
        "    trajectory = np.stack((trajectory_x,trajectory_y,angulos_vector))\n",
        "    return trajectory\n",
        "\n",
        "\"\"\"\n",
        "==============================================================================\n",
        "Square trajectory:\n",
        "\n",
        "    N: cantidad de puntos que tendrá la trayectoria creada.\n",
        "\n",
        "    Devuelve una trayectoria cuadrada de N puntos. El punto inicial es el (0,0)\n",
        "    siguiendo hacia el punto (lado,0), luego (lado,lado), (0,lado) y regresando\n",
        "    al (0,0). \"lado\" es una variable que se define dentro de esta función.\n",
        "    La trayectoria siempre es de \"N\" puntos!\n",
        "\n",
        "=============================================================================\"\"\"  \n",
        "def square_trajectory(N):\n",
        "    \n",
        "    n = int(N/4)\n",
        "    #diff = 10/(n-1)\n",
        "    lado = 20\n",
        "    #lado = 10\n",
        "\n",
        "    p = lado*4 / N\n",
        "    \"\"\"\n",
        "    primer_tramo_x = np.linspace(0,lado,n)\n",
        "    primer_tramo_y = np.zeros(n)\n",
        "\n",
        "    segundo_tramo_x = np.ones(n) * lado\n",
        "    segundo_tramo_y = np.linspace(0,lado,n)\n",
        "\n",
        "    tercer_tramo_x = np.linspace(lado,0,n)\n",
        "    tercer_tramo_y = np.ones(n) * lado    \n",
        "\n",
        "    cuarto_tramo_x = np.zeros(n)\n",
        "    cuarto_tramo_y = np.linspace(lado,0,n)\n",
        "    \"\"\"\n",
        "    primer_tramo_x = np.arange(0,lado,p)\n",
        "    primer_tramo_y = np.zeros( np.shape(primer_tramo_x)[0] )\n",
        "\n",
        "    segundo_tramo_y = np.arange(0,lado,p)\n",
        "    segundo_tramo_x = np.ones( np.shape(segundo_tramo_y)[0] ) * lado\n",
        "\n",
        "    tercer_tramo_x = np.arange(lado,0,-p)\n",
        "    tercer_tramo_y = np.ones(np.shape(primer_tramo_x)[0] ) * lado\n",
        "\n",
        "    cuarto_tramo_y = np.arange(lado,0,-p)\n",
        "    cuarto_tramo_x = np.zeros( np.shape(cuarto_tramo_y)[0] )\n",
        "    \n",
        "    trajectory_x = np.concatenate((primer_tramo_x,segundo_tramo_x,tercer_tramo_x,cuarto_tramo_x))\n",
        "    trajectory_y = np.concatenate((primer_tramo_y,segundo_tramo_y,tercer_tramo_y,cuarto_tramo_y))\n",
        "    trajectory = np.stack((trajectory_x,trajectory_y))\n",
        "    \n",
        "    # calculo los ángulos de las poses\n",
        "    angulos = []\n",
        "    for i in range(N-1):\n",
        "        theta = np.arctan2((trajectory_y[i+1] - trajectory_y[i]),(trajectory_x[i+1] - trajectory_x[i]))\n",
        "        angulos.append(theta)\n",
        "    \n",
        "    angulo_N = angulos[N-2]\n",
        "    angulos.append(angulo_N)\n",
        "    angulos_vector = np.array(angulos)\n",
        "    \n",
        "    trajectory = np.stack((trajectory_x,trajectory_y,angulos_vector))\n",
        "    return trajectory\n",
        "\n",
        "\"\"\"\n",
        "==============================================================================\n",
        "Square trajectory y:\n",
        "\n",
        "    N: cantidad de puntos que tendrá la trayectoria creada.\n",
        "\n",
        "    Devuelve una trayectoria cuadrada de N puntos. El punto inicial es el (0,0)\n",
        "    siguiendo hacia el punto (0,lado), luego (lado,lado), (lado,0) y regresando\n",
        "    al (0,0). \"lado\" es una variable que se define dentro de esta función.\n",
        "    La trayectoria siempre es de \"N\" puntos!\n",
        "\n",
        "=============================================================================\"\"\"   \n",
        "def square_trajectory_y(N):\n",
        "    \n",
        "    n = int(N/4)\n",
        "    #diff = 10/(n-1)\n",
        "\n",
        "    lado = 10\n",
        "    \n",
        "    primer_tramo_x = np.zeros(n)\n",
        "    primer_tramo_y = np.linspace(0,lado,n)\n",
        "    primer_tramo_angulos = np.ones(n) * np.pi/2\n",
        "    \n",
        "    segundo_tramo_x = np.linspace(0,lado,n)\n",
        "    segundo_tramo_y = np.ones(n) * lado\n",
        "    segundo_tramo_angulos = np.zeros(n)\n",
        "    \n",
        "    tercer_tramo_x = np.ones(n) * lado\n",
        "    tercer_tramo_y = np.linspace(lado,0,n)\n",
        "    tercer_tramo_angulos = np.ones(n) * (-np.pi/2)\n",
        "\n",
        "    #tercer_tramo_x = np.ones(int(n/2)) * 10\n",
        "    #tercer_tramo_y = np.linspace(10,5,int(n/2))\n",
        "    \n",
        "    cuarto_tramo_x = np.linspace(lado,0,n)\n",
        "    cuarto_tramo_y = np.zeros(n)\n",
        "    cuarto_tramo_angulos = np.ones(n) * (np.pi)\n",
        "\n",
        "    #cuarto_tramo_x = np.linspace(10,0,n)\n",
        "    #cuarto_tramo_y = np.ones(n) * 5\n",
        "    \n",
        "    trajectory_x = np.concatenate((primer_tramo_x,segundo_tramo_x,tercer_tramo_x,cuarto_tramo_x))\n",
        "    trajectory_y = np.concatenate((primer_tramo_y,segundo_tramo_y,tercer_tramo_y,cuarto_tramo_y))\n",
        "    trajectory_angulos = np.concatenate((primer_tramo_angulos, segundo_tramo_angulos, tercer_tramo_angulos, cuarto_tramo_angulos))\n",
        "    trajectory = np.stack((trajectory_x,trajectory_y,trajectory_angulos))\n",
        "    \n",
        "    N = np.shape(trajectory)[1]\n",
        "\n",
        "    \"\"\"    \n",
        "    # calculo los ángulos de las poses\n",
        "    angulos = []\n",
        "    for i in range(N-1):\n",
        "        theta = np.arctan2((trajectory_y[i+1] - trajectory_y[i]),(trajectory_x[i+1] - trajectory_x[i]))\n",
        "        angulos.append(theta)\n",
        "    \n",
        "    angulo_N = angulos[N-2]\n",
        "    angulos.append(angulo_N)\n",
        "    angulos_vector = np.array(angulos)\n",
        "    \"\"\"\n",
        "\n",
        "\n",
        "    # trajectory = np.stack((trajectory_x,trajectory_y,angulos_vector))\n",
        "    return trajectory\n",
        "\n",
        "\"\"\"\n",
        "==============================================================================\n",
        "Labyrinth trajectory :\n",
        "\n",
        "    N: cantidad de puntos que tendrá la trayectoria creada.\n",
        "\n",
        "    Devuelve una trayectoria que une los siguientes puntos con segmentos:\n",
        "    (0,0)            --> (0,lado_y)\n",
        "    (0,lado_y)       --> (lado_x, lado_y)\n",
        "    (lado_x, lado_y) --> (lado_x, 0)\n",
        "    (lado_x, 0)      --> (2 * lado_x, 0)\n",
        "    \n",
        "    Esto se repite 5 veces.\n",
        "\n",
        "=============================================================================\"\"\"   \n",
        "def labyrinth_trajectory(N):\n",
        "\n",
        "  lado_y = 20\n",
        "\n",
        "  lado_x = 5\n",
        "\n",
        "  M = 5\n",
        "\n",
        "  N_aux = N/M\n",
        "\n",
        "  l = (lado_x + lado_y) * 2\n",
        "\n",
        "  n_horizontal = int(N_aux * lado_x/l)+1\n",
        "\n",
        "  n_vertical = int(N_aux * lado_y/l)\n",
        "\n",
        "  print(n_horizontal,n_vertical)\n",
        "  # pdb.set_trace()\n",
        "  # 1era parte vertical\n",
        "  path_1_x = np.zeros(n_vertical)[0:n_vertical-1]\n",
        "  path_1_y = np.linspace(0,lado_y,n_vertical)[0:n_vertical-1]\n",
        "\n",
        "  # 2da parte horizontal\n",
        "  path_2_x = np.linspace(0,lado_x,n_horizontal)[0:n_horizontal-1]\n",
        "  path_2_y = ( np.ones(n_horizontal) * lado_y )[0:n_horizontal-1]\n",
        "\n",
        "  # 3era parte vertical\n",
        "  path_3_x = ( np.ones(n_vertical) * lado_x )[0:n_vertical-1]\n",
        "  path_3_y = np.linspace(lado_y,0,n_vertical)[0:n_vertical-1]\n",
        "\n",
        "  # 4ta parte horizontal\n",
        "  path_4_x = np.linspace(lado_x,lado_x * 2,n_horizontal)[0:n_horizontal-1]\n",
        "  path_4_y = np.zeros(n_horizontal)[0:n_horizontal-1]\n",
        "\n",
        "  trajectory_x = np.concatenate((path_1_x,path_2_x,path_3_x,path_4_x))\n",
        "  trajectory_y = np.concatenate((path_1_y,path_2_y,path_3_y,path_4_y))\n",
        "\n",
        "  for i in range(1,M):\n",
        "    path_1_x = ( np.ones(n_vertical) * lado_x * (2*i) )[0:n_vertical-1]\n",
        "    path_1_y = np.linspace(0,lado_y,n_vertical)[0:n_vertical-1]\n",
        "\n",
        "    path_2_x = ( np.linspace(lado_x * (2 * i),lado_x * (2 * i + 1),n_horizontal) )[0:n_horizontal-1]\n",
        "    path_2_y = ( np.ones(n_horizontal) * lado_y )[0:n_horizontal-1]\n",
        "\n",
        "    path_3_x = ( np.ones(n_vertical) * lado_x * (2 * i + 1) )[0:n_vertical-1]\n",
        "    path_3_y = np.linspace(lado_y,0,n_vertical)[0:n_vertical-1]\n",
        "\n",
        "    path_4_x = ( np.linspace(lado_x * (2 * i + 1),lado_x * (2*i+2),n_horizontal) )[0:n_horizontal-1]\n",
        "    path_4_y = np.zeros(n_horizontal)[0:n_horizontal-1]\n",
        "\n",
        "    trajectory_x = np.concatenate((trajectory_x,path_1_x,path_2_x,path_3_x,path_4_x))\n",
        "    trajectory_y = np.concatenate((trajectory_y,path_1_y,path_2_y,path_3_y,path_4_y))\n",
        "\n",
        "\n",
        "  trajectory = np.stack((trajectory_x,trajectory_y))\n",
        "\n",
        "  N = np.shape(trajectory)[1]\n",
        "\n",
        "  # calculo los ángulos de las poses\n",
        "  angulos = []\n",
        "  for i in range(trajectory.shape[1]-1):\n",
        "      theta = np.arctan2((trajectory_y[i+1] - trajectory_y[i]),(trajectory_x[i+1] - trajectory_x[i]))\n",
        "      angulos.append(theta)\n",
        "  \n",
        "  angulo_N = angulos[trajectory.shape[1]-2]\n",
        "  angulos.append(angulo_N)\n",
        "  angulos_vector = np.array(angulos)\n",
        "  \n",
        "  trajectory = np.stack((trajectory_x,trajectory_y,angulos_vector))\n",
        "\n",
        "  return trajectory\n",
        "\n",
        "\"\"\"\n",
        "==============================================================================\n",
        "Spiral trajectory:\n",
        "\n",
        "    N: cantidad de puntos que tendrá la trayectoria creada.\n",
        "\n",
        "    Devuelve una trayectoria cuadrada de N puntos. El punto inicial es el (0,0)\n",
        "    siguiendo hacia el punto (0,lado), luego (lado,lado), (lado,0) y regresando\n",
        "    al (0,0). \"lado\" es una variable que se define dentro de esta función.\n",
        "    La trayectoria siempre es de \"N\" puntos!\n",
        "\n",
        "=============================================================================\"\"\"   \n",
        "def spiral_trajectory(N):\n",
        "    radio_max = 20\n",
        "    radio = np.linspace(0,radio_max,N)\n",
        "    center = np.array([20,20])\n",
        "    angle = np.linspace(0,4*np.pi,N)\n",
        "    trajectory_x = np.ones(N) * center[0] + radio * np.cos(angle)\n",
        "    trajectory_y = np.ones(N) * center[1] + radio * np.sin(angle)\n",
        "    trajectory = np.stack((trajectory_x,trajectory_y))\n",
        "    \n",
        "    # calculo los ángulos de las poses\n",
        "    angulos = []\n",
        "    for i in range(N-1):\n",
        "        theta = np.arctan2((trajectory_y[i+1] - trajectory_y[i]),(trajectory_x[i+1] - trajectory_x[i]))\n",
        "        angulos.append(theta)\n",
        "    \n",
        "    angulo_N = angulos[N-2]\n",
        "    angulos.append(angulo_N)\n",
        "    angulos_vector = np.array(angulos)\n",
        "    \n",
        "    trajectory = np.stack((trajectory_x,trajectory_y,angulos_vector))\n",
        "    return trajectory\n",
        "\n",
        "\"\"\"\n",
        "==============================================================================\n",
        "Curvy trajectory:\n",
        "\n",
        "    N: cantidad de puntos que tendrá la trayectoria creada.\n",
        "\n",
        "    Devuelve una trayectoria cuadrada de N puntos. El punto inicial es el (0,0)\n",
        "    siguiendo hacia el punto (0,lado), luego (lado,lado), (lado,0) y regresando\n",
        "    al (0,0). \"lado\" es una variable que se define dentro de esta función.\n",
        "    La trayectoria siempre es de \"N\" puntos!\n",
        "\n",
        "=============================================================================\"\"\"   \n",
        "def curvy_trajectory(N):\n",
        "\n",
        "    repeticiones = 3\n",
        "    M = int(N/3)\n",
        "\n",
        "    radio = 10\n",
        "    center = np.array([0,0])    \n",
        "    angle = np.linspace(np.pi,2*np.pi,M)\n",
        "    center = center + np.array([10,0])\n",
        "    trajectory_x = np.ones(M) * center[0] + radio * np.cos(angle)\n",
        "    trajectory_y = np.ones(M) * center[1] + radio * np.sin(angle)\n",
        "\n",
        "    for i in range(1,repeticiones):\n",
        "      \n",
        "      center = center + np.array([20,0])\n",
        "\n",
        "      path_x = np.ones(M-1) * center[0] + radio * np.cos(angle[1:])\n",
        "      path_y = np.ones(M-1) * center[1] + radio * np.sin(angle[1:])\n",
        "      trajectory_x = np.concatenate((trajectory_x,path_x))\n",
        "      trajectory_y = np.concatenate((trajectory_y,path_y))\n",
        "\n",
        "    trajectory = np.stack((trajectory_x,trajectory_y))\n",
        "    aux_N = np.shape(trajectory)[1]\n",
        "\n",
        "    # calculo los ángulos de las poses\n",
        "    angulos = []\n",
        "    for i in range(aux_N-1):\n",
        "        theta = np.arctan2((trajectory_y[i+1] - trajectory_y[i]),(trajectory_x[i+1] - trajectory_x[i]))\n",
        "        angulos.append(theta)\n",
        "    \n",
        "    angulo_N = angulos[aux_N-2]\n",
        "    angulos.append(angulo_N)\n",
        "    angulos_vector = np.array(angulos)\n",
        "    \n",
        "    trajectory = np.stack((trajectory_x,trajectory_y,angulos_vector))\n",
        "    return trajectory"
      ],
      "execution_count": 713,
      "outputs": []
    },
    {
      "cell_type": "code",
      "source": [
        ""
      ],
      "metadata": {
        "id": "7SI4kWs27V9t"
      },
      "execution_count": null,
      "outputs": []
    },
    {
      "cell_type": "code",
      "metadata": {
        "id": "AnN7FcivYJuZ"
      },
      "source": [
        "def offset_trajectory(trajectory):\n",
        "\n",
        "  N = np.shape(trajectory)[1]\n",
        "\n",
        "  v = np.array([[1000],[1000],[0]])\n",
        "\n",
        "  new_trajectory = np.zeros(np.shape(trajectory))\n",
        "\n",
        "  for i in range(0,N):\n",
        "\n",
        "    aux = trajectory[:,i]\n",
        "    aux.shape = (3,1)\n",
        "\n",
        "    new_trajectory[:,i:i+1] = aux + v\n",
        "\n",
        "  return new_trajectory"
      ],
      "execution_count": null,
      "outputs": []
    },
    {
      "cell_type": "code",
      "source": [
        "length_trajectory(trajectory)"
      ],
      "metadata": {
        "colab": {
          "base_uri": "https://localhost:8080/"
        },
        "id": "GSR5LRQua0Kb",
        "outputId": "4ed8b01f-f9b0-4343-b79f-5e3d344c1f9a"
      },
      "execution_count": 640,
      "outputs": [
        {
          "output_type": "execute_result",
          "data": {
            "text/plain": [
              "37.5"
            ]
          },
          "metadata": {},
          "execution_count": 640
        }
      ]
    },
    {
      "cell_type": "code",
      "metadata": {
        "id": "ER2dhAxCzBNb"
      },
      "source": [
        "\n",
        "# =============================================================================\n",
        "# Configuración de la simulación\n",
        "# =============================================================================\n",
        "\n",
        "# se define la traycetoria a seguir. Esta trayectoria es una serie de puntos\n",
        "# en el plano donde se mueve el robot.\n",
        "N = 56\n",
        "trajectory = create_trajectory(N)\n",
        "trajectory = interpcurve(N,trajectory[0],trajectory[1])\n",
        "trajectory = trajectory.T\n",
        "trajectory = calculate_angles(N,trajectory[0],trajectory[1])\n",
        "\n",
        "# se le suma un offset en (x,y) a la trayectoria\n",
        "# trajectory = offset_trajectory(trajectory)\n",
        "\n",
        "# se extrae la pose inicial de la trayectoria, para luego decirle al robot dónde\n",
        "# empezar\n",
        "x0 = trajectory[:,0][0]\n",
        "y0 = trajectory[:,0][1]\n",
        "x1 = trajectory[:,1][0]\n",
        "y1 = trajectory[:,1][1]\n",
        "theta0 = np.arctan2(y1-y0,x1-x0)\n",
        "\n",
        "# Se crea una instancia de la clase robot. Este se ubica en la posición del\n",
        "# espacio: (x,y,theta) \n",
        "# (x,y) es la posición en el plano.\n",
        "# theta es la orientación respecto de la horizontal\n",
        "# dt: diferencial de tiempo de simulación del robot, en segundos\n",
        "dt = 0.1\n",
        "dt_control = 0.5\n",
        "robot = Robot(x0,y0,theta0,dt,dt_control)\n",
        "\n",
        "# Se setea la velocidad lineal y angular inicial del robot en 0.\n",
        "# De esta forma el robot estará quieto inicialmente.\n",
        "robot.set_linear_velocity(0)\n",
        "robot.set_angular_velocity(0)\n",
        "\n",
        "# Se le carga al robot, la trayectoria que deberá seguir cuando inicie la \n",
        "# simulación. Para eso se utiliza un control proporcional\n",
        "\n",
        "Kp_s = (1-0.4)/dt_control\n",
        "Kp_theta = (1-0.2)/dt_control\n",
        "robot.trajectory_follow_config(Kp_s,Kp_theta,trajectory)"
      ],
      "execution_count": 734,
      "outputs": []
    },
    {
      "cell_type": "code",
      "source": [
        "trajectory[:,45]"
      ],
      "metadata": {
        "colab": {
          "base_uri": "https://localhost:8080/"
        },
        "id": "RpVk96HOeGYF",
        "outputId": "ad7ca172-6d70-4cd3-a3a3-3a15c08c480f"
      },
      "execution_count": 578,
      "outputs": [
        {
          "output_type": "execute_result",
          "data": {
            "text/plain": [
              "array([40.51530849, 22.5036482 ,  1.36780801])"
            ]
          },
          "metadata": {},
          "execution_count": 578
        }
      ]
    },
    {
      "cell_type": "code",
      "metadata": {
        "id": "7T8Z6OR20LcE",
        "colab": {
          "base_uri": "https://localhost:8080/"
        },
        "outputId": "2d17437d-a07b-498b-a8d7-c7aa049da41c"
      },
      "source": [
        "# =============================================================================\n",
        "# Comienzo de la simulación\n",
        "# =============================================================================\n",
        "\n",
        "# Este método comienza lasimulación del seguimiento de la trayectoria\n",
        "# del robot\n",
        "robot.start_simulation()\n",
        "\n",
        "# Mientras el robot tenga una referencia para seguir, el ciclo while sigue\n",
        "# corriendo\n",
        "\n",
        "v_max, v_min = robot.get_max_linear_velocity()\n",
        "w_max, w_min = robot.get_max_angular_velocity()\n",
        "\n",
        "while (robot.trajectory_follow_activated):\n",
        "  \"\"\"\n",
        "  w = robot.get_angular_velocity()\n",
        "  v = robot.get_linear_velocity()\n",
        "  if (v >= v_max or v <= v_min):\n",
        "    print(v,w)\n",
        "    \n",
        "  if (w >= w_max or w <= w_min):\n",
        "    print(v,w)\n",
        "  \"\"\"\n",
        "  continue\n",
        "\n",
        "\n",
        "# Si se salió del ciclo while es porque el robot ya siguió todas las\n",
        "# referencias que tenía cargadas\n",
        "\n",
        "# Se detiene la simulación\n",
        "robot.stop_simulation()"
      ],
      "execution_count": 735,
      "outputs": [
        {
          "output_type": "stream",
          "name": "stdout",
          "text": [
            "Robot: simulation stopped\n",
            "Control: simulation stopped\n"
          ]
        }
      ]
    },
    {
      "cell_type": "code",
      "metadata": {
        "colab": {
          "base_uri": "https://localhost:8080/"
        },
        "id": "IGRP6MOd2bTa",
        "outputId": "aacc03f7-d3d0-41cc-8cc2-15900c4e8a88"
      },
      "source": [
        "# Se calcula el error entre la trayectoria real y la que debería haber seguido\n",
        "# el robot\n",
        "curva_recorrida = robot.get_real_trajectory()\n",
        "E_RMS, E_peak = calculate_error(curva_recorrida,trajectory)\n",
        "print(E_RMS)\n",
        "print(E_peak)"
      ],
      "execution_count": 736,
      "outputs": [
        {
          "output_type": "stream",
          "name": "stdout",
          "text": [
            "0.4057571682510799\n",
            "0.9250912935108323\n"
          ]
        }
      ]
    },
    {
      "cell_type": "code",
      "source": [
        "len(curva_recorrida)"
      ],
      "metadata": {
        "colab": {
          "base_uri": "https://localhost:8080/"
        },
        "id": "Zd8AGz_-FHko",
        "outputId": "5db71772-ea0e-4e3b-eab0-39e838a6cfc9"
      },
      "execution_count": 571,
      "outputs": [
        {
          "output_type": "execute_result",
          "data": {
            "text/plain": [
              "52"
            ]
          },
          "metadata": {},
          "execution_count": 571
        }
      ]
    },
    {
      "cell_type": "code",
      "metadata": {
        "id": "LnsxOayx26Du",
        "colab": {
          "base_uri": "https://localhost:8080/",
          "height": 295
        },
        "outputId": "d22485c4-79e8-4acf-980d-4b94eca12352"
      },
      "source": [
        "# Ploteo la curva recorrida del robot vs la curva deseada\n",
        "N = trajectory.shape[1]\n",
        "fig,ax = plt.subplots(1)\n",
        "\n",
        "# se plotea la curva deseada\n",
        "ax.plot(trajectory[0,:],trajectory[1,:],'bx',linewidth=1)\n",
        "# ax.plot(trajectory[0,:],trajectory[1,:],'b-',linewidth=1)\n",
        "curva_aux = np.array(curva_recorrida)\n",
        "# se plotea la curva seguida por el robot\n",
        "#ax.plot(curva_aux[:,0],curva_aux[:,1],'r-',linewidth = 1)\n",
        "#ax.plot(curva_aux[:,0],curva_aux[:,1],'rx',markersize = 5)\n",
        "\n",
        "for i in range(0,N):\n",
        "    ax.plot([trajectory[0,:][i],curva_aux[:,0][i]],[trajectory[1,:][i],curva_aux[:,1][i]],'k',linewidth = 1)\n",
        "\n",
        "    pose_del_robot = curva_aux[i]\n",
        "\n",
        "    plotear_robot(ax,pose_del_robot[0],pose_del_robot[1],pose_del_robot[2],robot.diameter/2,'r')\n",
        "\n",
        "\n",
        "ax.set_xlabel('x [m]')\n",
        "ax.set_ylabel('y [m]')\n",
        "ax.set_aspect('equal')\n",
        "ax.set_title('N = %i, E_RMS = %.3f, E_peak = %.3f' %(N, E_RMS, E_peak))\n",
        "ax.grid(True)"
      ],
      "execution_count": 737,
      "outputs": [
        {
          "output_type": "display_data",
          "data": {
            "image/png": "[encoded data removed]",
            "text/plain": [
              "<Figure size 432x288 with 1 Axes>"
            ]
          },
          "metadata": {
            "needs_background": "light"
          }
        }
      ]
    },
    {
      "cell_type": "code",
      "source": [
        "L = 0\n",
        "puntos = N\n",
        "for k in range(0,puntos-1):\n",
        "  delta_L = np.linalg.norm(trajectory[0:2,k+1] - trajectory[0:2,k])\n",
        "  L = L + delta_L\n",
        "\n",
        "print(L/(1.5*puntos))\n",
        "print(L)"
      ],
      "metadata": {
        "colab": {
          "base_uri": "https://localhost:8080/"
        },
        "id": "bliYmjvQNPAx",
        "outputId": "fa3c6d90-d851-478f-b9a8-9b11677a2ca6"
      },
      "execution_count": null,
      "outputs": [
        {
          "output_type": "stream",
          "name": "stdout",
          "text": [
            "1.3333333333333333\n",
            "40.0\n"
          ]
        }
      ]
    },
    {
      "cell_type": "code",
      "source": [
        "curva_recorrida[8]"
      ],
      "metadata": {
        "colab": {
          "base_uri": "https://localhost:8080/"
        },
        "id": "gFD5jnvBN5vW",
        "outputId": "8fe51f51-8daa-47d6-8708-c08ee80b4a46"
      },
      "execution_count": null,
      "outputs": [
        {
          "output_type": "execute_result",
          "data": {
            "text/plain": [
              "(9.947974641117346, 10.028998072974375, 2.127729575186791)"
            ]
          },
          "metadata": {},
          "execution_count": 339
        }
      ]
    },
    {
      "cell_type": "code",
      "metadata": {
        "id": "HfeioS3ShAWl"
      },
      "source": [
        "# Celda para guardar el gráfico de la curva en una imagen\n",
        "fig.savefig('DNN_L.png',dpi = 300)"
      ],
      "execution_count": 738,
      "outputs": []
    },
    {
      "cell_type": "code",
      "metadata": {
        "colab": {
          "base_uri": "https://localhost:8080/",
          "height": 279
        },
        "id": "8sJnIsFof1LI",
        "outputId": "56e7187d-709e-40ec-bd5f-6cb6cde65488"
      },
      "source": [
        "# Gráfico de la curva recorrida vs curva deseada\n",
        "\n",
        "fig, ax = plt.subplots(1)\n",
        "\n",
        "ax.plot(trajectory[0,:],trajectory[1,:],'b-',linewidth=1)\n",
        "ax.plot(curva_aux[:,0],curva_aux[:,1],'r-',linewidth = 1)\n",
        "\n",
        "ax.set_xlabel('x [m]')\n",
        "ax.set_ylabel('y [m]')\n",
        "ax.set_aspect('equal')\n",
        "ax.grid(True)"
      ],
      "execution_count": 329,
      "outputs": [
        {
          "output_type": "display_data",
          "data": {
            "image/png": "[encoded data removed]",
            "text/plain": [
              "<Figure size 432x288 with 1 Axes>"
            ]
          },
          "metadata": {
            "needs_background": "light"
          }
        }
      ]
    },
    {
      "cell_type": "code",
      "metadata": {
        "id": "CpKeTxauh1PX"
      },
      "source": [
        "fig.savefig('test.png',dpi = 300)"
      ],
      "execution_count": null,
      "outputs": []
    },
    {
      "cell_type": "code",
      "metadata": {
        "id": "5BDnYQCZ4FkS",
        "colab": {
          "base_uri": "https://localhost:8080/"
        },
        "outputId": "1a68961a-d013-4a49-8375-a00f9f0cb7ba"
      },
      "source": [
        "print(robot.get_simulation_time_mobile_robot())\n",
        "print(robot.get_simulation_time_control())"
      ],
      "execution_count": 47,
      "outputs": [
        {
          "output_type": "stream",
          "name": "stdout",
          "text": [
            "29.5\n",
            "30.0\n"
          ]
        }
      ]
    },
    {
      "cell_type": "code",
      "metadata": {
        "id": "WGaSxLqCzjBr"
      },
      "source": [
        "robot.stop_simulation()"
      ],
      "execution_count": 325,
      "outputs": []
    },
    {
      "cell_type": "code",
      "source": [
        "curva_recorrida[13]"
      ],
      "metadata": {
        "colab": {
          "base_uri": "https://localhost:8080/"
        },
        "id": "lSg-lpznqkIP",
        "outputId": "e36f5738-1395-4564-fc4c-fb67fad07b28"
      },
      "execution_count": 48,
      "outputs": [
        {
          "output_type": "execute_result",
          "data": {
            "text/plain": [
              "(10.284817525623149, 1.8185329548237936, -1.4455433544980867)"
            ]
          },
          "metadata": {},
          "execution_count": 48
        }
      ]
    },
    {
      "cell_type": "code",
      "source": [
        "trajectory[:,14]"
      ],
      "metadata": {
        "colab": {
          "base_uri": "https://localhost:8080/"
        },
        "id": "2_ohbCjIQ5_E",
        "outputId": "0649f6f9-bf0c-41b2-ce91-dd41579993ff"
      },
      "execution_count": 82,
      "outputs": [
        {
          "output_type": "execute_result",
          "data": {
            "text/plain": [
              "array([10.        ,  0.        , -1.57079633])"
            ]
          },
          "metadata": {},
          "execution_count": 82
        }
      ]
    }
  ]
}